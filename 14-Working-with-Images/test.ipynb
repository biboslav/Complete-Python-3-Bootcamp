{
 "cells": [
  {
   "cell_type": "code",
   "execution_count": 1,
   "id": "8c83245d-b263-4e4f-b25b-bef7d96629e6",
   "metadata": {},
   "outputs": [],
   "source": [
    "from PIL import Image\n",
    "mac = Image.open('example.jpg')"
   ]
  },
  {
   "cell_type": "code",
   "execution_count": 2,
   "id": "2af4621c-1147-433d-a95c-dbc8a9eb9d09",
   "metadata": {},
   "outputs": [
    {
     "data": {
      "text/plain": [
       "PIL.JpegImagePlugin.JpegImageFile"
      ]
     },
     "execution_count": 2,
     "metadata": {},
     "output_type": "execute_result"
    }
   ],
   "source": [
    "type(mac)"
   ]
  },
  {
   "cell_type": "code",
   "execution_count": 4,
   "id": "2a0152fc-7f80-4407-82e1-2f849d88830b",
   "metadata": {},
   "outputs": [
    {
     "data": {
      "text/plain": [
       "<bound method Image.show of <PIL.JpegImagePlugin.JpegImageFile image mode=RGB size=1993x1257 at 0x224CCE3F020>>"
      ]
     },
     "execution_count": 4,
     "metadata": {},
     "output_type": "execute_result"
    }
   ],
   "source": [
    "mac.show"
   ]
  },
  {
   "cell_type": "code",
   "execution_count": null,
   "id": "ea6fe38c-7f23-4416-be88-5531c7d94e8b",
   "metadata": {},
   "outputs": [],
   "source": []
  }
 ],
 "metadata": {
  "kernelspec": {
   "display_name": "Python 3 (ipykernel)",
   "language": "python",
   "name": "python3"
  },
  "language_info": {
   "codemirror_mode": {
    "name": "ipython",
    "version": 3
   },
   "file_extension": ".py",
   "mimetype": "text/x-python",
   "name": "python",
   "nbconvert_exporter": "python",
   "pygments_lexer": "ipython3",
   "version": "3.12.7"
  }
 },
 "nbformat": 4,
 "nbformat_minor": 5
}
