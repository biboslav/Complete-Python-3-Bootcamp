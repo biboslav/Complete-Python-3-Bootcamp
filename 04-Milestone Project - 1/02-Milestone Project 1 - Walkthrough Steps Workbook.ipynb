{
 "cells": [
  {
   "cell_type": "markdown",
   "metadata": {},
   "source": [
    "___\n",
    "\n",
    "<a href='https://www.udemy.com/user/joseportilla/'><img src='../Pierian_Data_Logo.png'/></a>\n",
    "___\n",
    "<center><em>Content Copyright by Pierian Data</em></center>"
   ]
  },
  {
   "cell_type": "markdown",
   "metadata": {},
   "source": [
    "# Milestone Project 1: Walkthrough Steps Workbook\n",
    "\n",
    "Below is a set of steps for you to follow to try to create the Tic Tac Toe Milestone Project game!"
   ]
  },
  {
   "cell_type": "markdown",
   "metadata": {},
   "source": [
    "#### Some suggested tools before you get started:\n",
    "To take input from a user:\n",
    "\n",
    "    player1 = input(\"Please pick a marker 'X' or 'O'\")\n",
    "    \n",
    "Note that input() takes in a string. If you need an integer value, use\n",
    "\n",
    "    position = int(input('Please enter a number'))\n",
    "    \n",
    "<br>To clear the screen between moves:\n",
    "\n",
    "    from IPython.display import clear_output\n",
    "    clear_output()\n",
    "    \n",
    "Note that clear_output() will only work in jupyter. To clear the screen in other IDEs, consider:\n",
    "\n",
    "    print('\\n'*100)\n",
    "    \n",
    "This scrolls the previous board up out of view. Now on to the program!"
   ]
  },
  {
   "cell_type": "markdown",
   "metadata": {},
   "source": [
    "**Step 1: Write a function that can print out a board. Set up your board as a list, where each index 1-9 corresponds with a number on a number pad, so you get a 3 by 3 board representation.**"
   ]
  },
  {
   "cell_type": "code",
   "execution_count": 46,
   "metadata": {},
   "outputs": [],
   "source": [
    "from IPython.display import clear_output\n",
    "\n",
    "def display_board(board):\n",
    "    ver_del = '     |     |     '\n",
    "    hor_del = '-----|-----|-----'\n",
    "   \n",
    "    print(ver_del)\n",
    "    print('  {a}  |  {b}  |  {c}  '.format(a=board[7],b=board[8],c=board[9]))\n",
    "    print(hor_del)   \n",
    "    print(ver_del)\n",
    "    print('  {a}  |  {b}  |  {c}  '.format(a=board[4],b=board[5],c=board[6]))\n",
    "    print(hor_del)\n",
    "    print('  {a}  |  {b}  |  {c}  '.format(a=board[1],b=board[2],c=board[3]))\n",
    "    print(ver_del)\n",
    "    \n",
    "    \n",
    "    #row3 = board[1:4]\n",
    "    #row2 = board[4:7]\n",
    "    #row1 = board[7:10]\n",
    "    #print(row1)\n",
    "    #print(row2)\n",
    "    #print(row3)"
   ]
  },
  {
   "cell_type": "markdown",
   "metadata": {},
   "source": [
    "**TEST Step 1:** run your function on a test version of the board list, and make adjustments as necessary"
   ]
  },
  {
   "cell_type": "code",
   "execution_count": 3,
   "metadata": {},
   "outputs": [
    {
     "name": "stdout",
     "output_type": "stream",
     "text": [
      "     |     |     \n",
      "  X  |  O  |  X  \n",
      "-----|-----|-----\n",
      "     |     |     \n",
      "  O  |  X  |  O  \n",
      "-----|-----|-----\n",
      "  X  |  O  |  X  \n",
      "     |     |     \n"
     ]
    }
   ],
   "source": [
    "test_board = ['#','X','O','X','O','X','O','X','O','X']\n",
    "display_board(test_board)"
   ]
  },
  {
   "cell_type": "markdown",
   "metadata": {},
   "source": [
    "**Step 2: Write a function that can take in a player input and assign their marker as 'X' or 'O'. Think about using *while* loops to continually ask until you get a correct answer.**"
   ]
  },
  {
   "cell_type": "code",
   "execution_count": 47,
   "metadata": {},
   "outputs": [],
   "source": [
    "def player_input():\n",
    "    \n",
    "     # This original choice value can be anything that isn't a Y or N\n",
    "    choice = 'Z'\n",
    "    \n",
    "    # While the choice is not a digit, keep asking for input.\n",
    "    while choice not in ['X','O']:\n",
    "        \n",
    "        # we shouldn't convert here, otherwise we get an error on a wrong input\n",
    "        choice = input(\"Please select Marker? X or O \")\n",
    "\n",
    "        \n",
    "        if choice not in ['X','O']:\n",
    "            # THIS CLEARS THE CURRENT OUTPUT BELOW THE CELL\n",
    "            clear_output()\n",
    "            \n",
    "            print(\"Sorry, I didn't understand. Please make sure to choose X or O.\")\n",
    "            \n",
    "    \n",
    "    # Optionally you can clear everything after running the function\n",
    "    # clear_output()\n",
    "    return choice\n",
    "    "
   ]
  },
  {
   "cell_type": "markdown",
   "metadata": {},
   "source": [
    "**TEST Step 2:** run the function to make sure it returns the desired output"
   ]
  },
  {
   "cell_type": "code",
   "execution_count": 6,
   "metadata": {},
   "outputs": [
    {
     "name": "stdout",
     "output_type": "stream",
     "text": [
      "Sorry, I didn't understand. Please make sure to choose X or O.\n"
     ]
    },
    {
     "name": "stdin",
     "output_type": "stream",
     "text": [
      "Please select Marker? X or O  O\n"
     ]
    },
    {
     "data": {
      "text/plain": [
       "'O'"
      ]
     },
     "execution_count": 6,
     "metadata": {},
     "output_type": "execute_result"
    }
   ],
   "source": [
    "player_input()"
   ]
  },
  {
   "cell_type": "markdown",
   "metadata": {},
   "source": [
    "**Step 3: Write a function that takes in the board list object, a marker ('X' or 'O'), and a desired position (number 1-9) and assigns it to the board.**"
   ]
  },
  {
   "cell_type": "code",
   "execution_count": 48,
   "metadata": {},
   "outputs": [],
   "source": [
    "def place_marker(board, marker, position):\n",
    "    board[position] = marker\n",
    "    "
   ]
  },
  {
   "cell_type": "markdown",
   "metadata": {},
   "source": [
    "**TEST Step 3:** run the place marker function using test parameters and display the modified board"
   ]
  },
  {
   "cell_type": "code",
   "execution_count": 8,
   "metadata": {},
   "outputs": [
    {
     "name": "stdout",
     "output_type": "stream",
     "text": [
      "     |     |     \n",
      "  X  |  $  |  X  \n",
      "-----|-----|-----\n",
      "     |     |     \n",
      "  O  |  X  |  O  \n",
      "-----|-----|-----\n",
      "  X  |  O  |  X  \n",
      "     |     |     \n"
     ]
    }
   ],
   "source": [
    "place_marker(test_board,'$',8)\n",
    "display_board(test_board)"
   ]
  },
  {
   "cell_type": "markdown",
   "metadata": {},
   "source": [
    "**Step 4: Write a function that takes in a board and a mark (X or O) and then checks to see if that mark has won. **"
   ]
  },
  {
   "cell_type": "code",
   "execution_count": 59,
   "metadata": {},
   "outputs": [],
   "source": [
    "def win_check(board, mark):\n",
    "    check_list = [mark,mark,mark]\n",
    "    row1 = board[1:4]\n",
    "    row2 = board[4:7]\n",
    "    row3 = board[7:10]\n",
    "    col1 = [board[1],board[4],board[7]]\n",
    "    col2 = [board[2],board[5],board[8]]\n",
    "    col3 = [board[3],board[6],board[9]]\n",
    "    dia1 =  [board[1],board[5],board[9]]\n",
    "    dia2 =  [board[3],board[5],board[7]]\n",
    "    #print(check_list)\n",
    "    #print(dia2)\n",
    "    if check_list == row1 or check_list == row2 or check_list == row3 or check_list == col1 or check_list == col2 or check_list == col3 or check_list == dia1 or check_list == dia2:\n",
    "        print('Congratulations you win!')\n",
    "        return True\n",
    "    else:\n",
    "        return False\n",
    "    \n",
    "  "
   ]
  },
  {
   "cell_type": "markdown",
   "metadata": {},
   "source": [
    "**TEST Step 4:** run the win_check function against our test_board - it should return True"
   ]
  },
  {
   "cell_type": "code",
   "execution_count": 10,
   "metadata": {},
   "outputs": [
    {
     "data": {
      "text/plain": [
       "False"
      ]
     },
     "execution_count": 10,
     "metadata": {},
     "output_type": "execute_result"
    }
   ],
   "source": [
    "win_check(test_board,'X')"
   ]
  },
  {
   "cell_type": "markdown",
   "metadata": {},
   "source": [
    "**Step 5: Write a function that uses the random module to randomly decide which player goes first. You may want to lookup random.randint() Return a string of which player went first.**"
   ]
  },
  {
   "cell_type": "code",
   "execution_count": 50,
   "metadata": {},
   "outputs": [],
   "source": [
    "import random\n",
    "\n",
    "def choose_first():\n",
    "    #num = random.randint(1,100)\n",
    "    x  = random.choice(['Player1', 'Player2'])\n",
    "    return x"
   ]
  },
  {
   "cell_type": "markdown",
   "metadata": {},
   "source": [
    "**Step 6: Write a function that returns a boolean indicating whether a space on the board is freely available.**"
   ]
  },
  {
   "cell_type": "code",
   "execution_count": 51,
   "metadata": {},
   "outputs": [],
   "source": [
    "def space_check(board, position):    \n",
    "    return board[position] == ' '\n",
    "    "
   ]
  },
  {
   "cell_type": "markdown",
   "metadata": {},
   "source": [
    "**Step 7: Write a function that checks if the board is full and returns a boolean value. True if full, False otherwise.**"
   ]
  },
  {
   "cell_type": "code",
   "execution_count": 52,
   "metadata": {},
   "outputs": [],
   "source": [
    "def full_board_check(board):\n",
    "    if ' ' in board:\n",
    "        return False\n",
    "    else:\n",
    "        print('Board is full!')\n",
    "        return True\n",
    "    \n",
    "    "
   ]
  },
  {
   "cell_type": "markdown",
   "metadata": {},
   "source": [
    "**Step 8: Write a function that asks for a player's next position (as a number 1-9) and then uses the function from step 6 to check if it's a free position. If it is, then return the position for later use.**"
   ]
  },
  {
   "cell_type": "code",
   "execution_count": 53,
   "metadata": {},
   "outputs": [],
   "source": [
    "def player_choice(board):\n",
    "    position = 0\n",
    "    \n",
    "    while position not in [1,2,3,4,5,6,7,8,9] or not space_check(board, position):\n",
    "             \n",
    "        position = int(input('Choose your next position: (1-9) '))\n",
    "    return position\n",
    "\n",
    "    \n",
    "    '''\n",
    "    choice = '0'\n",
    "    \n",
    "    # While the choice is not a digit, keep asking for input.\n",
    "    while choice not in ['1','2','3','4','5','6','7','8','9']:\n",
    "        # we shouldn't convert here, otherwise we get an error on a wrong input\n",
    "        choice = input(\"Please select next position (as a number 1-9) \")\n",
    "        if choice not in ['1','2','3','4','5','6','7','8','9']:\n",
    "            # THIS CLEARS THE CURRENT OUTPUT BELOW THE CELL\n",
    "            clear_output()                    \n",
    "            print(\"Sorry, I didn't understand. Please make sure to choose a number 1-9.\")\n",
    "        else:\n",
    "            if space_check(board,int(choice)) == False:\n",
    "                clear_output()\n",
    "                coice = '0'\n",
    "                print(\"Sorry, position taken. Please choose a number 1-9.\")      \n",
    "        \n",
    "        \n",
    "\n",
    "    \n",
    "    return int(choice)\n",
    "     '''       \n",
    "    \n",
    "    "
   ]
  },
  {
   "cell_type": "markdown",
   "metadata": {},
   "source": [
    "**Step 9: Write a function that asks the player if they want to play again and returns a boolean True if they do want to play again.**"
   ]
  },
  {
   "cell_type": "code",
   "execution_count": 54,
   "metadata": {},
   "outputs": [],
   "source": [
    "def replay():\n",
    "    \n",
    "    choice = 'Y'\n",
    "    \n",
    "    # While the choice is not a digit, keep asking for input.\n",
    "    while choice not in ['Y','N']:\n",
    "        choice = input(\"play again (Y/N) ?\")\n",
    "       \n",
    "        if choice not in ['Y','N']:\n",
    "            # THIS CLEARS THE CURRENT OUTPUT BELOW THE CELL\n",
    "            clear_output()\n",
    "            \n",
    "            print(\"Sorry, I didn't understand. Please make sure to choose Y or N.\")\n",
    "\n",
    "    \n",
    "    return choice == 'Y'"
   ]
  },
  {
   "cell_type": "markdown",
   "metadata": {
    "collapsed": true,
    "jupyter": {
     "outputs_hidden": true
    }
   },
   "source": [
    "**Step 10: Here comes the hard part! Use while loops and the functions you've made to run the game!**"
   ]
  },
  {
   "cell_type": "code",
   "execution_count": 67,
   "metadata": {},
   "outputs": [
    {
     "name": "stdout",
     "output_type": "stream",
     "text": [
      "     |     |     \n",
      "  X  |     |  X  \n",
      "-----|-----|-----\n",
      "     |     |     \n",
      "     |  O  |  O  \n",
      "-----|-----|-----\n",
      "  X  |     |     \n",
      "     |     |     \n",
      "Player2\n"
     ]
    },
    {
     "name": "stdin",
     "output_type": "stream",
     "text": [
      "Choose your next position: (1-9)  4\n"
     ]
    },
    {
     "name": "stdout",
     "output_type": "stream",
     "text": [
      "     |     |     \n",
      "  X  |     |  X  \n",
      "-----|-----|-----\n",
      "     |     |     \n",
      "  O  |  O  |  O  \n",
      "-----|-----|-----\n",
      "  X  |     |     \n",
      "     |     |     \n",
      "Congratulations you win!\n"
     ]
    }
   ],
   "source": [
    "print('Welcome to Tic Tac Toe!')\n",
    "\n",
    "#while True:\n",
    " \n",
    "# Set the game up here\n",
    "positions = ['#','1','2','3','4','5','6','7','8','9']\n",
    "display_board(positions)\n",
    "board = ['#',' ',' ',' ',' ',' ',' ',' ',' ',' ']\n",
    "display_board(board)\n",
    "\n",
    "turn = choose_first()\n",
    "print ('First will play '+ turn)\n",
    "sign =  player_input()\n",
    "if turn == 'Player1':\n",
    "    if sign == 'X':\n",
    "        first_pl_sign = sign\n",
    "        second_pl_sign = 'O'\n",
    "    else: \n",
    "        first_pl_sign = sign\n",
    "        second_pl_sign = 'X'\n",
    "else:\n",
    "    if sign == 'X':\n",
    "        first_pl_sign = 'O'\n",
    "        second_pl_sign = sign\n",
    "    else: \n",
    "        first_pl_sign =  'X'\n",
    "        second_pl_sign = sign\n",
    "\n",
    "\n",
    "\n",
    "clear_output()\n",
    "\n",
    "game_on = True\n",
    "while game_on:\n",
    "    #Player 1 Turn\n",
    "    clear_output()\n",
    "    display_board(board)\n",
    "    if turn == 'Player1':\n",
    "        \n",
    "        \n",
    "        print('Player1')\n",
    "        place_marker(board, first_pl_sign, player_choice(board))        \n",
    "        display_board(board)\n",
    "        if full_board_check(board) == True or  win_check(board, first_pl_sign) == True:\n",
    "            game_on = False\n",
    "        else:\n",
    "            turn = 'Player2'\n",
    "        \n",
    "    \n",
    "    # Player2's turn.\n",
    "    else:\n",
    "        \n",
    "        print('Player2')\n",
    "        place_marker(board, second_pl_sign, player_choice(board))        \n",
    "        display_board(board)\n",
    "        if full_board_check(board) == True or  win_check(board, second_pl_sign) == True:\n",
    "            game_on = False \n",
    "        else:\n",
    "            turn = 'Player1'\n",
    "        \n",
    "            \n",
    "            #pass\n",
    "\n",
    "    #if not replay():\n",
    "        #break"
   ]
  },
  {
   "cell_type": "markdown",
   "metadata": {
    "collapsed": true,
    "jupyter": {
     "outputs_hidden": true
    }
   },
   "source": [
    "## Good Job!"
   ]
  },
  {
   "cell_type": "code",
   "execution_count": 60,
   "metadata": {},
   "outputs": [
    {
     "name": "stdout",
     "output_type": "stream",
     "text": [
      "Congratulations you win!\n"
     ]
    },
    {
     "data": {
      "text/plain": [
       "True"
      ]
     },
     "execution_count": 60,
     "metadata": {},
     "output_type": "execute_result"
    }
   ],
   "source": [
    "win_check(board, 'X') "
   ]
  },
  {
   "cell_type": "code",
   "execution_count": 39,
   "metadata": {},
   "outputs": [
    {
     "data": {
      "text/plain": [
       "['#', 'X', 'O', 'X', 'O', 'X', 'O', 'O', 'X', 'X']"
      ]
     },
     "execution_count": 39,
     "metadata": {},
     "output_type": "execute_result"
    }
   ],
   "source": [
    "board"
   ]
  },
  {
   "cell_type": "code",
   "execution_count": null,
   "metadata": {},
   "outputs": [],
   "source": []
  }
 ],
 "metadata": {
  "kernelspec": {
   "display_name": "Python 3 (ipykernel)",
   "language": "python",
   "name": "python3"
  },
  "language_info": {
   "codemirror_mode": {
    "name": "ipython",
    "version": 3
   },
   "file_extension": ".py",
   "mimetype": "text/x-python",
   "name": "python",
   "nbconvert_exporter": "python",
   "pygments_lexer": "ipython3",
   "version": "3.12.7"
  }
 },
 "nbformat": 4,
 "nbformat_minor": 4
}
