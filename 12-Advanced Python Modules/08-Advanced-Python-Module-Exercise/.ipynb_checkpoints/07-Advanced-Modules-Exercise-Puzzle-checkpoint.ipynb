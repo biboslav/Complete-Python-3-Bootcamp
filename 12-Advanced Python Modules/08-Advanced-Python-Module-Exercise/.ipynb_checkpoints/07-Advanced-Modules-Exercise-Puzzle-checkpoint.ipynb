{
 "cells": [
  {
   "cell_type": "markdown",
   "metadata": {},
   "source": [
    "___\n",
    "\n",
    "<a href='https://www.udemy.com/user/joseportilla/'><img src='../../Pierian_Data_Logo.png'/></a>\n",
    "___\n",
    "<center><em>Content Copyright by Pierian Data</em></center>"
   ]
  },
  {
   "cell_type": "markdown",
   "metadata": {},
   "source": [
    "# Advanced Modules Exercise Puzzle\n",
    "\n",
    "It's time to test your new skills, this puzzle project will combine multiple skills sets, including unzipping files with Python, using os module to automatically search through lots of files.\n",
    "\n",
    "## Your Goal\n",
    "\n",
    "This is a puzzle, so we don't want to give you too much guidance and instead have you figure out things on your own.\n",
    "\n",
    "There is a .zip file called 'unzip_me_for_instructions.zip', unzip it, open the .txt file with Python, read the instructions and see if you can figure out what you need to do!\n",
    "\n",
    "**If you get stuck or don't know where to start, here is a [guide/hints](https://docs.google.com/document/d/1JxydUr4n4fSR0EwwuwT-aHia-yPK6r-oTBuVT2sqheo/edit?usp=sharing)**"
   ]
  },
  {
   "cell_type": "code",
   "execution_count": 1,
   "metadata": {},
   "outputs": [
    {
     "data": {
      "text/plain": [
       "'E:\\\\Work\\\\OBB\\\\UDEMY\\\\PythonBootcamp\\\\Fork_Repo\\\\12-Advanced Python Modules\\\\08-Advanced-Python-Module-Exercise'"
      ]
     },
     "execution_count": 1,
     "metadata": {},
     "output_type": "execute_result"
    }
   ],
   "source": [
    "pwd"
   ]
  },
  {
   "cell_type": "code",
   "execution_count": 6,
   "metadata": {},
   "outputs": [],
   "source": [
    "import os\n",
    "import  zipfile\n",
    "import shutil"
   ]
  },
  {
   "cell_type": "code",
   "execution_count": 7,
   "metadata": {},
   "outputs": [
    {
     "data": {
      "text/plain": [
       "['.ipynb_checkpoints',\n",
       " '07-Advanced-Modules-Exercise-Puzzle.ipynb',\n",
       " '08-Advanced-Modules-Exercise-Solutions.ipynb',\n",
       " 'extracted_content',\n",
       " 'unzip_me_for_instructions.zip']"
      ]
     },
     "execution_count": 7,
     "metadata": {},
     "output_type": "execute_result"
    }
   ],
   "source": [
    "os.listdir()"
   ]
  },
  {
   "cell_type": "code",
   "execution_count": 8,
   "metadata": {},
   "outputs": [],
   "source": [
    "zip1_file = zipfile.ZipFile('unzip_me_for_instructions.zip')\n"
   ]
  },
  {
   "cell_type": "code",
   "execution_count": 9,
   "metadata": {},
   "outputs": [],
   "source": [
    "zip1_file.extractall('zip1_folder')"
   ]
  },
  {
   "cell_type": "code",
   "execution_count": 13,
   "metadata": {},
   "outputs": [],
   "source": [
    "input_file2 = 'unzip_me_for_instructions.zip'"
   ]
  },
  {
   "cell_type": "code",
   "execution_count": 14,
   "metadata": {},
   "outputs": [],
   "source": [
    "out_dir2 = 'zip2_folder'"
   ]
  },
  {
   "cell_type": "code",
   "execution_count": 15,
   "metadata": {},
   "outputs": [],
   "source": [
    "shutil.unpack_archive(input_file2,out_dir2,'zip')"
   ]
  },
  {
   "cell_type": "code",
   "execution_count": 16,
   "metadata": {},
   "outputs": [],
   "source": [
    "dir_1 = 'E:\\\\Work\\\\OBB\\\\UDEMY\\\\PythonBootcamp\\\\Fork_Repo\\\\12-Advanced Python Modules\\\\08-Advanced-Python-Module-Exercise\\\\extracted_content'\n",
    "file1 = 'Instructions.txt'"
   ]
  },
  {
   "cell_type": "code",
   "execution_count": 17,
   "metadata": {},
   "outputs": [
    {
     "name": "stdout",
     "output_type": "stream",
     "text": [
      "Good work on unzipping the file!\n",
      "You should now see 5 folders, each with a lot of random .txt files.\n",
      "Within one of these text files is a telephone number formated ###-###-####\n",
      "Use the Python os module and regular expressions to iterate through each file, open it, and search for a telephone number.\n",
      "Good luck!\n"
     ]
    }
   ],
   "source": [
    "'''\n",
    "with open('extracted_content/Instructions.txt') as f:\n",
    "    content = f.read()\n",
    "    print(content)\n",
    "'''\n",
    "\n",
    "with open(dir_1+'\\\\'+file1) as file:\n",
    "    while line := file.readline():\n",
    "        print(line.rstrip())"
   ]
  },
  {
   "cell_type": "code",
   "execution_count": 54,
   "metadata": {},
   "outputs": [
    {
     "name": "stdout",
     "output_type": "stream",
     "text": [
      "Currently looking at folder: E:\\Work\\OBB\\UDEMY\\PythonBootcamp\\Fork_Repo\\12-Advanced Python Modules\\08-Advanced-Python-Module-Exercise\\extracted_content\n"
     ]
    },
    {
     "name": "stderr",
     "output_type": "stream",
     "text": [
      "UsageError: Line magic function `%%timeit` not found.\n"
     ]
    }
   ],
   "source": [
    "import re\n",
    "\n",
    "patern1 = r'\\d{3}-\\d{3}-\\d{4}'\n",
    "def search1(file,pattern= r'\\d{3}-\\d{3}-\\d{4}'):\n",
    "    f = open(file,'r')\n",
    "    text = f.read()\n",
    "    \n",
    "    if re.search(pattern,text):\n",
    "        return re.search(pattern,text)\n",
    "    #else:\n",
    "    #    return ''\n",
    "\n",
    "\n",
    "\n",
    "\n",
    "class ReadFile:\n",
    "    \n",
    "    def __init__(self, path):\n",
    "        self.path = path\n",
    "\n",
    "    def print_data(self):\n",
    "        with open(self.path, 'r') as f:\n",
    "            for line in f:\n",
    "                print(line)\n",
    "\n",
    "    def search_data(self,patern):\n",
    "        \n",
    "        #comp_pattern = re.compile(patern)\n",
    "        result = []\n",
    "        with open(self.path, 'r') as f:\n",
    "            for line in f:\n",
    "                result += re.findall(patern,line)\n",
    "            return result\n",
    "                \n",
    "\n",
    "    \n",
    "\n",
    "\n",
    "\n",
    "\n"
   ]
  },
  {
   "cell_type": "code",
   "execution_count": 60,
   "metadata": {},
   "outputs": [
    {
     "name": "stdout",
     "output_type": "stream",
     "text": [
      "\t719-266-2837\n",
      "\t719-266-2837\n",
      "\t719-266-2837\n",
      "\t719-266-2837\n",
      "\t719-266-2837\n",
      "\t719-266-2837\n",
      "\t719-266-2837\n",
      "\t719-266-2837\n",
      "\t719-266-2837\n",
      "\t719-266-2837\n",
      "\t719-266-2837\n",
      "\t719-266-2837\n",
      "\t719-266-2837\n",
      "\t719-266-2837\n",
      "\t719-266-2837\n",
      "\t719-266-2837\n",
      "\t719-266-2837\n",
      "\t719-266-2837\n",
      "\t719-266-2837\n",
      "\t719-266-2837\n",
      "\t719-266-2837\n",
      "\t719-266-2837\n",
      "\t719-266-2837\n",
      "\t719-266-2837\n",
      "\t719-266-2837\n",
      "\t719-266-2837\n",
      "\t719-266-2837\n",
      "\t719-266-2837\n",
      "\t719-266-2837\n",
      "\t719-266-2837\n",
      "\t719-266-2837\n",
      "\t719-266-2837\n",
      "\t719-266-2837\n",
      "\t719-266-2837\n",
      "\t719-266-2837\n",
      "\t719-266-2837\n",
      "\t719-266-2837\n",
      "\t719-266-2837\n",
      "\t719-266-2837\n",
      "\t719-266-2837\n",
      "\t719-266-2837\n",
      "\t719-266-2837\n",
      "\t719-266-2837\n",
      "\t719-266-2837\n",
      "\t719-266-2837\n",
      "\t719-266-2837\n",
      "\t719-266-2837\n",
      "\t719-266-2837\n",
      "\t719-266-2837\n",
      "\t719-266-2837\n",
      "\t719-266-2837\n",
      "\t719-266-2837\n",
      "\t719-266-2837\n",
      "\t719-266-2837\n",
      "\t719-266-2837\n",
      "\t719-266-2837\n",
      "\t719-266-2837\n",
      "\t719-266-2837\n",
      "\t719-266-2837\n",
      "\t719-266-2837\n",
      "\t719-266-2837\n",
      "\t719-266-2837\n",
      "\t719-266-2837\n",
      "\t719-266-2837\n",
      "\t719-266-2837\n",
      "\t719-266-2837\n",
      "\t719-266-2837\n",
      "\t719-266-2837\n",
      "\t719-266-2837\n",
      "\t719-266-2837\n",
      "\t719-266-2837\n",
      "\t719-266-2837\n",
      "\t719-266-2837\n",
      "\t719-266-2837\n",
      "\t719-266-2837\n",
      "\t719-266-2837\n",
      "\t719-266-2837\n",
      "\t719-266-2837\n",
      "\t719-266-2837\n",
      "\t719-266-2837\n",
      "\t719-266-2837\n",
      "73 ms ± 795 μs per loop (mean ± std. dev. of 7 runs, 10 loops each)\n"
     ]
    }
   ],
   "source": [
    "%%timeit\n",
    "for folder , sub_folders , files in os.walk(dir_1):\n",
    "    \n",
    "    #print(\"Currently looking at folder: \"+ folder)\n",
    "    #print('\\n')\n",
    "    #print(\"THE SUBFOLDERS ARE: \")\n",
    "    #for sub_fold in sub_folders:\n",
    "    #    print(\"\\t Subfolder: \"+sub_fold )\n",
    "    \n",
    "    #print('\\n')\n",
    "    \n",
    "    #print(\"THE FILES ARE: \")\n",
    "    for f in files:\n",
    "        path1 = folder+'\\\\'+f\n",
    "        \n",
    "        d = search1(path1,patern1)\n",
    "        if d is not None:            \n",
    "            print('\\t' +d.group())\n",
    "\n",
    "       "
   ]
  },
  {
   "cell_type": "code",
   "execution_count": 61,
   "metadata": {},
   "outputs": [
    {
     "name": "stdout",
     "output_type": "stream",
     "text": [
      "\t File: EMTGPSXQEJX.txt ['719-266-2837']\n",
      "\t File: EMTGPSXQEJX.txt ['719-266-2837']\n",
      "\t File: EMTGPSXQEJX.txt ['719-266-2837']\n",
      "\t File: EMTGPSXQEJX.txt ['719-266-2837']\n",
      "\t File: EMTGPSXQEJX.txt ['719-266-2837']\n",
      "\t File: EMTGPSXQEJX.txt ['719-266-2837']\n",
      "\t File: EMTGPSXQEJX.txt ['719-266-2837']\n",
      "\t File: EMTGPSXQEJX.txt ['719-266-2837']\n",
      "\t File: EMTGPSXQEJX.txt ['719-266-2837']\n",
      "\t File: EMTGPSXQEJX.txt ['719-266-2837']\n",
      "\t File: EMTGPSXQEJX.txt ['719-266-2837']\n",
      "\t File: EMTGPSXQEJX.txt ['719-266-2837']\n",
      "\t File: EMTGPSXQEJX.txt ['719-266-2837']\n",
      "\t File: EMTGPSXQEJX.txt ['719-266-2837']\n",
      "\t File: EMTGPSXQEJX.txt ['719-266-2837']\n",
      "\t File: EMTGPSXQEJX.txt ['719-266-2837']\n",
      "\t File: EMTGPSXQEJX.txt ['719-266-2837']\n",
      "\t File: EMTGPSXQEJX.txt ['719-266-2837']\n",
      "\t File: EMTGPSXQEJX.txt ['719-266-2837']\n",
      "\t File: EMTGPSXQEJX.txt ['719-266-2837']\n",
      "\t File: EMTGPSXQEJX.txt ['719-266-2837']\n",
      "\t File: EMTGPSXQEJX.txt ['719-266-2837']\n",
      "\t File: EMTGPSXQEJX.txt ['719-266-2837']\n",
      "\t File: EMTGPSXQEJX.txt ['719-266-2837']\n",
      "\t File: EMTGPSXQEJX.txt ['719-266-2837']\n",
      "\t File: EMTGPSXQEJX.txt ['719-266-2837']\n",
      "\t File: EMTGPSXQEJX.txt ['719-266-2837']\n",
      "\t File: EMTGPSXQEJX.txt ['719-266-2837']\n",
      "\t File: EMTGPSXQEJX.txt ['719-266-2837']\n",
      "\t File: EMTGPSXQEJX.txt ['719-266-2837']\n",
      "\t File: EMTGPSXQEJX.txt ['719-266-2837']\n",
      "\t File: EMTGPSXQEJX.txt ['719-266-2837']\n",
      "\t File: EMTGPSXQEJX.txt ['719-266-2837']\n",
      "\t File: EMTGPSXQEJX.txt ['719-266-2837']\n",
      "\t File: EMTGPSXQEJX.txt ['719-266-2837']\n",
      "\t File: EMTGPSXQEJX.txt ['719-266-2837']\n",
      "\t File: EMTGPSXQEJX.txt ['719-266-2837']\n",
      "\t File: EMTGPSXQEJX.txt ['719-266-2837']\n",
      "\t File: EMTGPSXQEJX.txt ['719-266-2837']\n",
      "\t File: EMTGPSXQEJX.txt ['719-266-2837']\n",
      "\t File: EMTGPSXQEJX.txt ['719-266-2837']\n",
      "\t File: EMTGPSXQEJX.txt ['719-266-2837']\n",
      "\t File: EMTGPSXQEJX.txt ['719-266-2837']\n",
      "\t File: EMTGPSXQEJX.txt ['719-266-2837']\n",
      "\t File: EMTGPSXQEJX.txt ['719-266-2837']\n",
      "\t File: EMTGPSXQEJX.txt ['719-266-2837']\n",
      "\t File: EMTGPSXQEJX.txt ['719-266-2837']\n",
      "\t File: EMTGPSXQEJX.txt ['719-266-2837']\n",
      "\t File: EMTGPSXQEJX.txt ['719-266-2837']\n",
      "\t File: EMTGPSXQEJX.txt ['719-266-2837']\n",
      "\t File: EMTGPSXQEJX.txt ['719-266-2837']\n",
      "\t File: EMTGPSXQEJX.txt ['719-266-2837']\n",
      "\t File: EMTGPSXQEJX.txt ['719-266-2837']\n",
      "\t File: EMTGPSXQEJX.txt ['719-266-2837']\n",
      "\t File: EMTGPSXQEJX.txt ['719-266-2837']\n",
      "\t File: EMTGPSXQEJX.txt ['719-266-2837']\n",
      "\t File: EMTGPSXQEJX.txt ['719-266-2837']\n",
      "\t File: EMTGPSXQEJX.txt ['719-266-2837']\n",
      "\t File: EMTGPSXQEJX.txt ['719-266-2837']\n",
      "\t File: EMTGPSXQEJX.txt ['719-266-2837']\n",
      "\t File: EMTGPSXQEJX.txt ['719-266-2837']\n",
      "\t File: EMTGPSXQEJX.txt ['719-266-2837']\n",
      "\t File: EMTGPSXQEJX.txt ['719-266-2837']\n",
      "\t File: EMTGPSXQEJX.txt ['719-266-2837']\n",
      "\t File: EMTGPSXQEJX.txt ['719-266-2837']\n",
      "\t File: EMTGPSXQEJX.txt ['719-266-2837']\n",
      "\t File: EMTGPSXQEJX.txt ['719-266-2837']\n",
      "\t File: EMTGPSXQEJX.txt ['719-266-2837']\n",
      "\t File: EMTGPSXQEJX.txt ['719-266-2837']\n",
      "\t File: EMTGPSXQEJX.txt ['719-266-2837']\n",
      "\t File: EMTGPSXQEJX.txt ['719-266-2837']\n",
      "\t File: EMTGPSXQEJX.txt ['719-266-2837']\n",
      "\t File: EMTGPSXQEJX.txt ['719-266-2837']\n",
      "\t File: EMTGPSXQEJX.txt ['719-266-2837']\n",
      "\t File: EMTGPSXQEJX.txt ['719-266-2837']\n",
      "\t File: EMTGPSXQEJX.txt ['719-266-2837']\n",
      "\t File: EMTGPSXQEJX.txt ['719-266-2837']\n",
      "\t File: EMTGPSXQEJX.txt ['719-266-2837']\n",
      "\t File: EMTGPSXQEJX.txt ['719-266-2837']\n",
      "\t File: EMTGPSXQEJX.txt ['719-266-2837']\n",
      "\t File: EMTGPSXQEJX.txt ['719-266-2837']\n",
      "75.3 ms ± 7.94 ms per loop (mean ± std. dev. of 7 runs, 10 loops each)\n"
     ]
    }
   ],
   "source": [
    "%%timeit\n",
    "for folder , sub_folders , files in os.walk(dir_1):\n",
    "    \n",
    "    #print(\"Currently looking at folder: \"+ folder)\n",
    "    #print('\\n')\n",
    "    #print(\"THE SUBFOLDERS ARE: \")\n",
    "    #for sub_fold in sub_folders:\n",
    "    #    print(\"\\t Subfolder: \"+sub_fold )\n",
    "    \n",
    "    #print('\\n')\n",
    "    \n",
    "    #print(\"THE FILES ARE: \")\n",
    "    for f in files:\n",
    "        path1 = folder+'\\\\'+f\n",
    "        \n",
    "        \n",
    "        c = ReadFile(path1)\n",
    "        if len(c.search_data(patern1)) > 0:\n",
    "            print(\"\\t File: \"+f+' '+str(c.search_data(patern1))) \n",
    "            #print()\n",
    "            #print('\\n')"
   ]
  },
  {
   "cell_type": "code",
   "execution_count": null,
   "metadata": {},
   "outputs": [],
   "source": [
    "%%timeit\n",
    "        c = ReadFile(path1)\n",
    "        if len(c.search_data(patern1)) > 0:\n",
    "            print(\"\\t File: \"+f+' '+str(c.search_data(patern1))) \n",
    "            #print()\n",
    "            #print('\\n')"
   ]
  }
 ],
 "metadata": {
  "anaconda-cloud": {},
  "kernelspec": {
   "display_name": "Python 3 (ipykernel)",
   "language": "python",
   "name": "python3"
  },
  "language_info": {
   "codemirror_mode": {
    "name": "ipython",
    "version": 3
   },
   "file_extension": ".py",
   "mimetype": "text/x-python",
   "name": "python",
   "nbconvert_exporter": "python",
   "pygments_lexer": "ipython3",
   "version": "3.12.7"
  }
 },
 "nbformat": 4,
 "nbformat_minor": 4
}
